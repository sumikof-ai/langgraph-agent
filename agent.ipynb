{
 "cells": [
  {
   "cell_type": "code",
   "execution_count": null,
   "metadata": {},
   "outputs": [
    {
     "name": "stderr",
     "output_type": "stream",
     "text": [
      "/Users/sumiya/git/langgraph-agent/.venv/lib/python3.11/site-packages/IPython/core/interactiveshell.py:3579: LangChainDeprecationWarning: As of langchain-core 0.3.0, LangChain uses pydantic v2 internally. The langchain_core.pydantic_v1 module was a compatibility shim for pydantic v1, and should no longer be used. Please update the code to import from Pydantic directly.\n",
      "\n",
      "For example, replace imports like: `from langchain_core.pydantic_v1 import BaseModel`\n",
      "with: `from pydantic import BaseModel`\n",
      "or the v1 compatibility namespace if you are working in a code base that has not been fully upgraded to pydantic 2 yet. \tfrom pydantic.v1 import BaseModel\n",
      "\n",
      "  exec(code_obj, self.user_global_ns, self.user_ns)\n"
     ]
    }
   ],
   "source": [
    "from langchain_openai.chat_models import ChatOpenAI\n",
    "from langgraph.graph import StateGraph, END\n",
    "# 状態管理用のデータ構造\n",
    "from pydantic import BaseModel,Field\n",
    "from typing import Any\n"
   ]
  },
  {
   "cell_type": "code",
   "execution_count": 2,
   "metadata": {},
   "outputs": [],
   "source": [
    "class AgentState(BaseModel):\n",
    "    user_input: str = Field(...,description=\"user_input\")\n",
    "    response: str = Field(...,description=\"ai response\")"
   ]
  },
  {
   "cell_type": "code",
   "execution_count": 3,
   "metadata": {},
   "outputs": [],
   "source": [
    "# LLM のセットアップ\n",
    "llm = ChatOpenAI(model=\"gpt-4o\", temperature=0.7)"
   ]
  },
  {
   "cell_type": "code",
   "execution_count": null,
   "metadata": {},
   "outputs": [],
   "source": [
    "from langchain.prompts.chat import ChatPromptTemplate\n",
    "from langchain_core.output_parsers import StrOutputParser\n",
    "def call_llm(state: AgentState) -> dict[str,Any]:\n",
    "    \"\"\"LLM にユーザー入力を渡し、応答を取得\"\"\"\n",
    "    prompt = ChatPromptTemplate.from_messages([\n",
    "        (\"human\",\"{user_input}\")\n",
    "    ])\n",
    "    chain = prompt | llm | StrOutputParser()\n",
    "    response = chain.invoke({\"user_input\": state.user_input})\n",
    "    return {\"response\": response}"
   ]
  },
  {
   "cell_type": "code",
   "execution_count": 8,
   "metadata": {},
   "outputs": [],
   "source": [
    "# グラフの構築\n",
    "workflow = StateGraph(AgentState)\n",
    "\n",
    "# ノードの追加\n",
    "workflow.add_node(\"llm\", call_llm)\n",
    "\n",
    "# フローの設定\n",
    "workflow.set_entry_point(\"llm\")\n",
    "workflow.add_edge(\"llm\", END)\n",
    "\n",
    "# ワークフローの作成\n",
    "app = workflow.compile()"
   ]
  },
  {
   "cell_type": "code",
   "execution_count": 9,
   "metadata": {},
   "outputs": [],
   "source": [
    "state = AgentState(user_input=\"あなたは優秀なエージェントです。カレーのレシピを考えて下さい。\",response=\"\")\n",
    "result = app.invoke(state)"
   ]
  },
  {
   "cell_type": "code",
   "execution_count": 10,
   "metadata": {},
   "outputs": [
    {
     "name": "stdout",
     "output_type": "stream",
     "text": [
      "エージェントの応答: ありがとうございます！ここにシンプルでおいしいカレーのレシピをご紹介します。日本風のカレーを作るための基本的なレシピです。\n",
      "\n",
      "### 材料（4人分）\n",
      "- 鶏もも肉または牛肉：300g\n",
      "- 玉ねぎ：2個\n",
      "- にんじん：1本\n",
      "- じゃがいも：2個\n",
      "- にんにく：2片\n",
      "- ショウガ：1片\n",
      "- カレールー：1箱（約200g）\n",
      "- サラダ油：大さじ2\n",
      "- 水：800ml\n",
      "- 塩、コショウ：少々\n",
      "- ご飯：適量\n",
      "\n",
      "### 作り方\n",
      "1. **材料の準備**  \n",
      "   - 鶏もも肉または牛肉を一口大に切り、塩コショウを振ります。\n",
      "   - 玉ねぎは薄切り、にんじんは半月切り、じゃがいもは一口大に切ります。\n",
      "   - にんにくとショウガはみじん切りにします。\n",
      "\n",
      "2. **炒める**  \n",
      "   - 大きな鍋にサラダ油を熱し、にんにくとショウガを香りが立つまで炒めます。\n",
      "   - 肉を加え、表面が白くなるまで炒めます。\n",
      "   - 玉ねぎ、にんじん、じゃがいもを加え、玉ねぎが透明になるまで炒めます。\n",
      "\n",
      "3. **煮込む**  \n",
      "   - 水を加え、沸騰したらアクを取り除きます。\n",
      "   - 弱火にし、蓋をして20分ほど煮込みます。\n",
      "\n",
      "4. **カレールーを加える**  \n",
      "   - 火を止めて、カレールーを少しずつ加えながら溶かします。\n",
      "   - 再び弱火で煮込み、15分ほどとろみがつくまで煮ます。\n",
      "\n",
      "5. **仕上げ**  \n",
      "   - 味を見て、必要なら塩コショウで調整します。\n",
      "   - ご飯を盛った皿にカレーをかけて、出来上がりです。\n",
      "\n",
      "このレシピは基本ですが、お好みでリンゴやはちみつを入れると甘みが増し、スパイスを足すと風味が豊かになります。お楽しみください！\n"
     ]
    }
   ],
   "source": [
    "print(\"エージェントの応答:\", result[\"response\"])"
   ]
  },
  {
   "cell_type": "code",
   "execution_count": null,
   "metadata": {},
   "outputs": [],
   "source": []
  },
  {
   "cell_type": "code",
   "execution_count": null,
   "metadata": {},
   "outputs": [],
   "source": []
  }
 ],
 "metadata": {
  "kernelspec": {
   "display_name": ".venv",
   "language": "python",
   "name": "python3"
  },
  "language_info": {
   "codemirror_mode": {
    "name": "ipython",
    "version": 3
   },
   "file_extension": ".py",
   "mimetype": "text/x-python",
   "name": "python",
   "nbconvert_exporter": "python",
   "pygments_lexer": "ipython3",
   "version": "3.11.4"
  }
 },
 "nbformat": 4,
 "nbformat_minor": 2
}
