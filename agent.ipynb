{
 "cells": [
  {
   "cell_type": "code",
   "execution_count": 1,
   "metadata": {},
   "outputs": [],
   "source": [
    "from langchain_openai.chat_models import ChatOpenAI\n",
    "from langgraph.graph import StateGraph, END\n",
    "from typing import TypedDict"
   ]
  },
  {
   "cell_type": "code",
   "execution_count": 2,
   "metadata": {},
   "outputs": [],
   "source": [
    "# 状態管理用のデータ構造\n",
    "class AgentState(TypedDict):\n",
    "    user_input: str\n",
    "    response: str"
   ]
  },
  {
   "cell_type": "code",
   "execution_count": 3,
   "metadata": {},
   "outputs": [],
   "source": [
    "# LLM のセットアップ\n",
    "llm = ChatOpenAI(model=\"gpt-4o\", temperature=0.7)"
   ]
  },
  {
   "cell_type": "code",
   "execution_count": 4,
   "metadata": {},
   "outputs": [],
   "source": [
    "# エージェントのノード\n",
    "def call_llm(state: AgentState) -> AgentState:\n",
    "    \"\"\"LLM にユーザー入力を渡し、応答を取得\"\"\"\n",
    "    user_input = state[\"user_input\"]\n",
    "    response = llm.invoke(user_input)\n",
    "    return {\"user_input\": user_input, \"response\": response.content}"
   ]
  },
  {
   "cell_type": "code",
   "execution_count": 5,
   "metadata": {},
   "outputs": [],
   "source": [
    "# グラフの構築\n",
    "workflow = StateGraph(AgentState)\n",
    "\n",
    "# ノードの追加\n",
    "workflow.add_node(\"llm\", call_llm)\n",
    "\n",
    "# フローの設定\n",
    "workflow.set_entry_point(\"llm\")\n",
    "workflow.add_edge(\"llm\", END)\n",
    "\n",
    "# ワークフローの作成\n",
    "app = workflow.compile()"
   ]
  },
  {
   "cell_type": "code",
   "execution_count": 6,
   "metadata": {},
   "outputs": [],
   "source": [
    "user_input = \"あなたは優秀なエージェントです。カレーのレシピを考えて下さい。\"\n",
    "result = app.invoke({\"user_input\": user_input})"
   ]
  },
  {
   "cell_type": "code",
   "execution_count": 7,
   "metadata": {},
   "outputs": [
    {
     "name": "stdout",
     "output_type": "stream",
     "text": [
      "エージェントの応答: ありがとうございます！ここでは、シンプルで美味しいチキンカレーのレシピを紹介します。家庭で簡単に作れるレシピですので、ぜひ試してみてください。\n",
      "\n",
      "### チキンカレーのレシピ\n",
      "\n",
      "#### 材料：\n",
      "- 鶏もも肉：500g（一口大に切る）\n",
      "- 玉ねぎ：1個（みじん切り）\n",
      "- ニンニク：2片（みじん切り）\n",
      "- 生姜：1片（みじん切り）\n",
      "- トマト：1個（角切り）\n",
      "- ヨーグルト：100g\n",
      "- カレー粉：大さじ2\n",
      "- クミンシード：小さじ1\n",
      "- コリアンダーパウダー：小さじ1\n",
      "- ガラムマサラ：小さじ1\n",
      "- 塩：適量\n",
      "- サラダ油：大さじ2\n",
      "- 水：200ml\n",
      "- 新鮮なコリアンダーの葉：適量（飾り用）\n",
      "\n",
      "#### 作り方：\n",
      "\n",
      "1. **下準備**:\n",
      "   - 鶏もも肉にヨーグルトと少量の塩を加えて混ぜ、30分ほどマリネします。\n",
      "\n",
      "2. **炒める**:\n",
      "   - 大きなフライパンまたは鍋にサラダ油を熱し、クミンシードを加えて、香りが立つまで炒めます。\n",
      "   - みじん切りにした玉ねぎを加え、透明になるまで炒めます。\n",
      "   - ニンニクと生姜を加え、さらに1〜2分炒めます。\n",
      "\n",
      "3. **スパイスを加える**:\n",
      "   - トマトを加えて柔らかくなるまで炒めます。\n",
      "   - カレー粉、コリアンダーパウダー、ガラムマサラを加えて混ぜ、1〜2分炒めてスパイスの香りを引き出します。\n",
      "\n",
      "4. **鶏肉を調理する**:\n",
      "   - マリネした鶏肉を加え、全体にスパイスを絡ませるように炒めます。\n",
      "   - 水を加え、鍋に蓋をして中火で20〜25分ほど煮込みます。鶏肉が柔らかくなり、カレーにとろみが出るまで煮込みます。\n",
      "\n",
      "5. **仕上げ**:\n",
      "   - 味を見て、必要であれば塩で調整します。\n",
      "   - 火を止め、新鮮なコリアンダーの葉を飾って出来上がりです。\n",
      "\n",
      "このチキンカレーはご飯やナンと一緒に楽しむと美味しいです。お好みで辛さを調整したり、他の野菜を加えたりしてアレンジしてみてください。楽しんで料理してくださいね！\n"
     ]
    }
   ],
   "source": [
    "print(\"エージェントの応答:\", result[\"response\"])"
   ]
  },
  {
   "cell_type": "code",
   "execution_count": null,
   "metadata": {},
   "outputs": [],
   "source": []
  },
  {
   "cell_type": "code",
   "execution_count": null,
   "metadata": {},
   "outputs": [],
   "source": []
  }
 ],
 "metadata": {
  "kernelspec": {
   "display_name": ".venv",
   "language": "python",
   "name": "python3"
  },
  "language_info": {
   "codemirror_mode": {
    "name": "ipython",
    "version": 3
   },
   "file_extension": ".py",
   "mimetype": "text/x-python",
   "name": "python",
   "nbconvert_exporter": "python",
   "pygments_lexer": "ipython3",
   "version": "3.11.4"
  }
 },
 "nbformat": 4,
 "nbformat_minor": 2
}
