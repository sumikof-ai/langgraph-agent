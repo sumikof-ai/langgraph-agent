{
 "cells": [
  {
   "cell_type": "code",
   "execution_count": 1,
   "metadata": {},
   "outputs": [],
   "source": [
    "from langchain_openai.chat_models import ChatOpenAI\n",
    "from langgraph.graph import StateGraph, END\n",
    "# 状態管理用のデータ構造\n",
    "from pydantic import BaseModel,Field\n",
    "from typing import Any\n"
   ]
  },
  {
   "cell_type": "code",
   "execution_count": 2,
   "metadata": {},
   "outputs": [],
   "source": [
    "class AgentState(BaseModel):\n",
    "    user_input: str = Field(...,description=\"user_input\")\n",
    "    response: str = Field(...,description=\"ai response\")"
   ]
  },
  {
   "cell_type": "code",
   "execution_count": 3,
   "metadata": {},
   "outputs": [],
   "source": [
    "# LLM のセットアップ\n",
    "llm = ChatOpenAI(model=\"gpt-4o\", temperature=0.7)"
   ]
  },
  {
   "cell_type": "code",
   "execution_count": 4,
   "metadata": {},
   "outputs": [],
   "source": [
    "from langchain.prompts.chat import ChatPromptTemplate\n",
    "from langchain_core.output_parsers import StrOutputParser\n",
    "def call_llm(state: AgentState) -> dict[str,Any]:\n",
    "    \"\"\"LLM にユーザー入力を渡し、応答を取得\"\"\"\n",
    "    prompt = ChatPromptTemplate.from_messages([\n",
    "        (\"human\",\"{user_input}\")\n",
    "    ])\n",
    "    chain = prompt | llm | StrOutputParser()\n",
    "    response = chain.invoke({\"user_input\": state.user_input})\n",
    "    return {\"response\": response}"
   ]
  },
  {
   "cell_type": "code",
   "execution_count": 5,
   "metadata": {},
   "outputs": [],
   "source": [
    "# グラフの構築\n",
    "workflow = StateGraph(AgentState)\n",
    "\n",
    "# ノードの追加\n",
    "workflow.add_node(\"llm\", call_llm)\n",
    "\n",
    "# フローの設定\n",
    "workflow.set_entry_point(\"llm\")\n",
    "workflow.add_edge(\"llm\", END)\n",
    "\n",
    "# ワークフローの作成\n",
    "app = workflow.compile()"
   ]
  },
  {
   "cell_type": "code",
   "execution_count": 6,
   "metadata": {},
   "outputs": [],
   "source": [
    "state = AgentState(user_input=\"あなたは優秀なエージェントです。カレーのレシピを考えて下さい。\",response=\"\")\n",
    "result = app.invoke(state)"
   ]
  },
  {
   "cell_type": "code",
   "execution_count": 7,
   "metadata": {},
   "outputs": [
    {
     "name": "stdout",
     "output_type": "stream",
     "text": [
      "エージェントの応答: もちろん、美味しいカレーのレシピを考えてみましょう。以下は、基本的なチキンカレーのレシピです。お好みで具材やスパイスをアレンジしてみてください。\n",
      "\n",
      "### チキンカレーのレシピ\n",
      "\n",
      "#### 材料（4人分）\n",
      "- 鶏もも肉：500g（一口大に切る）\n",
      "- 玉ねぎ：2個（薄切り）\n",
      "- にんにく：2片（みじん切り）\n",
      "- 生姜：1片（みじん切り）\n",
      "- トマト缶：1缶（400g）\n",
      "- ヨーグルト：100g\n",
      "- カレー粉：大さじ2\n",
      "- クミン：小さじ1\n",
      "- コリアンダー：小さじ1\n",
      "- ターメリック：小さじ1\n",
      "- ガラムマサラ：小さじ1\n",
      "- 塩：適量\n",
      "- 胡椒：適量\n",
      "- サラダ油：大さじ2\n",
      "- 水：200ml\n",
      "- パクチーや香菜（お好みで、飾り用）\n",
      "\n",
      "#### 作り方\n",
      "1. **準備**：\n",
      "   - 鶏もも肉に塩と胡椒をふりかけ、ヨーグルトを加えて混ぜ合わせ、30分ほどマリネしておきます。\n",
      "\n",
      "2. **炒める**：\n",
      "   - 鍋にサラダ油を熱し、クミンを加えて香りが立つまで炒めます。\n",
      "   - 次に、玉ねぎを加えて、しんなりするまで中火で炒めます。にんにくと生姜を加えてさらに1分ほど炒めます。\n",
      "\n",
      "3. **スパイスを加える**：\n",
      "   - カレー粉、コリアンダー、ターメリックを加えて、混ぜ合わせながら1〜2分炒め、香りを引き出します。\n",
      "\n",
      "4. **トマトと鶏肉を加える**：\n",
      "   - トマト缶を加え、軽く煮詰めます。\n",
      "   - マリネした鶏肉を加え、全体をよく混ぜ合わせます。\n",
      "\n",
      "5. **煮込む**：\n",
      "   - 水を加え、沸騰したら弱火にし、蓋をして20〜30分ほど煮込みます。時々かき混ぜながら、鶏肉が柔らかくなるまで煮込みます。\n",
      "\n",
      "6. **仕上げ**：\n",
      "   - ガラムマサラを加えて全体を混ぜ、塩で味を調整します。\n",
      "\n",
      "7. **盛り付け**：\n",
      "   - お皿に盛り付け、お好みでパクチーや香菜を散らして完成です。\n",
      "\n",
      "このレシピは基本的なものなので、好きな具材やスパイスを加えて、オリジナルのカレーを楽しんでください。お好みでジャガイモやナス、ほうれん草などを加えても美味しいです。\n"
     ]
    }
   ],
   "source": [
    "print(\"エージェントの応答:\", result[\"response\"])"
   ]
  },
  {
   "cell_type": "code",
   "execution_count": null,
   "metadata": {},
   "outputs": [],
   "source": []
  },
  {
   "cell_type": "code",
   "execution_count": null,
   "metadata": {},
   "outputs": [],
   "source": []
  }
 ],
 "metadata": {
  "kernelspec": {
   "display_name": ".venv",
   "language": "python",
   "name": "python3"
  },
  "language_info": {
   "codemirror_mode": {
    "name": "ipython",
    "version": 3
   },
   "file_extension": ".py",
   "mimetype": "text/x-python",
   "name": "python",
   "nbconvert_exporter": "python",
   "pygments_lexer": "ipython3",
   "version": "3.11.4"
  }
 },
 "nbformat": 4,
 "nbformat_minor": 2
}
